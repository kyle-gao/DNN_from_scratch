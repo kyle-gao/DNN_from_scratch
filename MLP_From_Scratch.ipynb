{
  "nbformat": 4,
  "nbformat_minor": 0,
  "metadata": {
    "colab": {
      "name": "MLP_From_Scratch.ipynb",
      "provenance": [],
      "collapsed_sections": [],
      "authorship_tag": "ABX9TyOgC1R3PS/QLCZpkjRLZGvF",
      "include_colab_link": true
    },
    "kernelspec": {
      "name": "python3",
      "display_name": "Python 3"
    },
    "language_info": {
      "name": "python"
    }
  },
  "cells": [
    {
      "cell_type": "markdown",
      "metadata": {
        "id": "view-in-github",
        "colab_type": "text"
      },
      "source": [
        "<a href=\"https://colab.research.google.com/github/kyle-gao/DNN_from_scratch/blob/master/MLP_From_Scratch.ipynb\" target=\"_parent\"><img src=\"https://colab.research.google.com/assets/colab-badge.svg\" alt=\"Open In Colab\"/></a>"
      ]
    },
    {
      "cell_type": "markdown",
      "metadata": {
        "id": "Y2ibPqjy5nLK"
      },
      "source": [
        ""
      ]
    },
    {
      "cell_type": "code",
      "metadata": {
        "id": "TCWHpmITF0L8"
      },
      "source": [
        "import numpy as np\n",
        "import matplotlib.pyplot as plt\n",
        "from keras.datasets import mnist"
      ],
      "execution_count": 1,
      "outputs": []
    },
    {
      "cell_type": "code",
      "metadata": {
        "id": "4amYo8XgF3Vw"
      },
      "source": [
        "(train_X, train_Y), (test_X, test_Y) = mnist.load_data()\n",
        "train_X = train_X/255.0\n",
        "test_X = test_X/255.0"
      ],
      "execution_count": 2,
      "outputs": []
    },
    {
      "cell_type": "code",
      "metadata": {
        "id": "EGoS4qKXMAXN"
      },
      "source": [
        "def sigmoid(Z):\n",
        "    #sigmoid function\n",
        "    return  1/(1+np.exp(-Z))\n",
        "\n",
        "def d_sigmoid(Z):\n",
        "    #sigmoid derivative\n",
        "    return sigmoid(Z)*(1-sigmoid(Z))"
      ],
      "execution_count": 3,
      "outputs": []
    },
    {
      "cell_type": "code",
      "metadata": {
        "id": "sLTtqxxHMnbE"
      },
      "source": [
        "def relu(Z):\n",
        "  return Z*(Z>0) #(Z>0) is an array of true and false, but np can convert into array of 0 and 1s. \n",
        "  \n",
        "def d_relu(Z): \n",
        "  return 1.0 *(Z>0)"
      ],
      "execution_count": 4,
      "outputs": []
    },
    {
      "cell_type": "code",
      "metadata": {
        "id": "-0Gaoc2zMrDW"
      },
      "source": [
        "def softmax(Z,eps=1e-10):\n",
        "    \"\"\"Numerically stable softmax\n",
        "    Given (m,n) input, returns softmax over the last dimension\"\"\"\n",
        "    shiftZ = Z - np.max(Z,axis=-1,keepdims=True)\n",
        "    expZ=np.exp(shiftZ)\n",
        "    total=np.sum(expZ,axis=-1,keepdims=True)+eps\n",
        "    return expZ/total\n",
        "\n",
        "def d_softmax(Z):\n",
        "  #Note, this is not the softmax derivative\n",
        "  #instead, we absorb the softmax derivative into the loss function derivative, which simplifies the math.\n",
        "  #so we just pass the identity function.\n",
        "  return 1 #turns out we don't need\n"
      ],
      "execution_count": 5,
      "outputs": []
    },
    {
      "cell_type": "code",
      "metadata": {
        "id": "L8raAFy8Om8n"
      },
      "source": [
        "def one_hot(Y,n_classes):\n",
        "  \"\"\"\n",
        "  Returns the one hot encoding of Y shape (n_batch, n_classes)\n",
        "  args:\n",
        "  Y: 1-d array of integers from 0 to n_classes of length n_batch\n",
        "  n_classes: number of classes\n",
        "\n",
        "  \"\"\"\n",
        "  m = Y.shape[0]\n",
        "  O_h = np.zeros((m,n_classes))\n",
        "  O_h[range(m),Y] = 1 #first element, at Yth entry = 1 etc...\n",
        "  return O_h"
      ],
      "execution_count": 6,
      "outputs": []
    },
    {
      "cell_type": "code",
      "metadata": {
        "id": "hIRApgfdYAK4"
      },
      "source": [
        "def get_minibatch(X,Y,minibatch_size = 64):\n",
        "  \"\"\"\n",
        "  Returns a list of (batch_X,batch_Y)\n",
        "  Args:\n",
        "  X -- array of shape (num_samples, img_height, img_width)\n",
        "  Y -- array of shape (num_samples)\n",
        "  minibatch_size -- integer\n",
        "  \"\"\"\n",
        "  num_batches = X.shape[0]//minibatch_size \n",
        "  minibatches = []\n",
        "  \n",
        "  for b in range(num_batches):\n",
        "    batch_X = X[b*minibatch_size:(b+1)*minibatch_size,:,:]\n",
        "    batch_Y = Y[b*minibatch_size:(b+1)*minibatch_size]\n",
        "\n",
        "    minibatches.append((batch_X,batch_Y))\n",
        "\n",
        "  return minibatches\n",
        "\n",
        "  "
      ],
      "execution_count": 7,
      "outputs": []
    },
    {
      "cell_type": "code",
      "metadata": {
        "id": "g-rNV_PzcJP2"
      },
      "source": [
        "def categorical_cross_entropy(Y,Yhat, eps=1e-8):\n",
        "  num_samples,dim_y = np.shape(Y)\n",
        "  Yhat = np.clip(Yhat, eps, 1-eps)\n",
        "  J = - np.sum(Y*np.log(Yhat),axis=-1) \n",
        "  return np.mean(J)\n",
        "\n",
        "def sparse_categorical_cross_entropy(Y,Yhat,n_classes=10, eps=1e-8):\n",
        "  Y_oh = one_hot(Y,n_classes)\n",
        "  return categorical_cross_entropy(Y_oh, Yhat, eps = eps)"
      ],
      "execution_count": 8,
      "outputs": []
    },
    {
      "cell_type": "code",
      "metadata": {
        "id": "JciU7OPcqL7C"
      },
      "source": [
        "def sgd(Ws,Bs,dWs,dBs,lr):\n",
        "  L = len(Ws)\n",
        "\n",
        "  Bs=[Bs[i]-lr*dBs[i] for i in range(L)]\n",
        "  Ws=[Ws[i]-lr*dWs[i] for i in range(L)]\n",
        "\n",
        "  return Ws, Bs"
      ],
      "execution_count": 9,
      "outputs": []
    },
    {
      "cell_type": "code",
      "metadata": {
        "id": "eT-sBz2KQnVb"
      },
      "source": [
        "class MLP():\n",
        "\n",
        "  def __init__(self,layers):\n",
        "    self.layers = layers\n",
        "    self.num_classes = layers[-1]\n",
        "    self.Ws = None #list of 2D numpy arrays\n",
        "    self.Bs = None #list of 1D numpy arrays\n",
        "    self.As = None #list of 1D numpy arrays\n",
        "    self.Zs = None #list of 1D numpy arrays\n",
        "\n",
        "  def initialize_parameters(self):\n",
        "    layers = self.layers\n",
        "    L=len(layers)\n",
        "    Ws=[]\n",
        "    Bs=[]\n",
        "    \n",
        "    for l in range(1,L):\n",
        "        wl=np.random.randn(layers[l-1],layers[l]) *np.sqrt(2/(layers[l-1])) # he initialization\n",
        "        bl=np.zeros((layers[l],1))\n",
        "        Ws.append(wl)\n",
        "        Bs.append(bl)\n",
        "\n",
        "    self.Ws = Ws\n",
        "    self.Bs = Bs\n",
        "\n",
        "  def update_parameters(self,Ws,Bs):\n",
        "    self.Ws = Ws\n",
        "    self.Bs = Bs\n",
        "\n",
        "  def forward_1(self,A_prev,W,b,activation = relu):\n",
        "\n",
        "    #A_prev -- (n_classes,dim_a_prev) \n",
        "    #W -- (dim_a,dim_a_prev)\n",
        "    #b -- (dim_a,1)\n",
        "    #activation -- a function (relu,sigmoid,softmax)\n",
        "    Z = np.dot(A_prev,W) + b.T # this is (n_classes, dim_a) + (1,dim_a)\n",
        "    A = activation(Z)\n",
        "    return A,Z\n",
        "\n",
        "  def forward(self, X, middle_activation = relu, final_activation = softmax,flatten = True):\n",
        "    As = []\n",
        "    Zs = []\n",
        "    Ws = self.Ws\n",
        "    Bs = self.Bs   \n",
        "    L = len(Ws)\n",
        "\n",
        "    X = np.reshape(X,(-1,28*28)) #ANN take in vector input, need to flatten image.\n",
        "    As.append(X)\n",
        "\n",
        "    for i in range(L-1):\n",
        "      A,Z = self.forward_1(As[i],Ws[i],Bs[i],middle_activation)\n",
        "      As.append(A)\n",
        "      Zs.append(Z)\n",
        "\n",
        "    #final layer\n",
        "    A,Z = self.forward_1(A,Ws[-1],Bs[-1],final_activation)\n",
        "    As.append(A)\n",
        "    Zs.append(Z)\n",
        "\n",
        "    self.As = As\n",
        "    self.Zs = Zs\n",
        "\n",
        "    return A\n",
        "  \n",
        "  def backward_1 (self, dA, W, A_prev, Z, d_activation = d_sigmoid):\n",
        "    m = A_prev.shape[0]\n",
        "\n",
        "\n",
        "    dZ = dA*d_activation(Z)\n",
        "    dA_prev = np.dot(dZ,W.T) #this is the delta in slide 25\n",
        "\n",
        "    dW = np.dot(A_prev.T,dZ)/m #gradient wrt to W, dW is a 2D array with same shape as the W of the same layer averaged over the samples.\n",
        "    dB = np.mean(dZ,axis=0) #gradient wrt to B, dB is a 1D array with same shape as the B of the same layer averaged over the samples.\n",
        "    dB = dB=np.reshape(dB,(len(dB),1)) #reshape so the 1D array is of shape (n_neurons, 1)\n",
        "\n",
        "    return dA_prev, dW, dB\n",
        "\n",
        "  def backward(self, Y, middle_d_activation = d_relu, final_d_activation = d_softmax):\n",
        "    \"\"\"\n",
        "    We will assume we are doing a classification task, in which we can absorb the softmax derivative into the Loss function derivative\n",
        "    \"\"\"\n",
        "    if len(Y.shape) == 1:\n",
        "      Y = one_hot(Y, self.layers[-1])\n",
        "    dWs = []\n",
        "    dBs = []\n",
        "    L = len(self.Ws)\n",
        "\n",
        "    dA = self.As[-1]-Y\n",
        "\n",
        "    dA,dW,dB = self.backward_1(dA, self.Ws[L-1], self.As[L-1], self.Zs[-1], final_d_activation)\n",
        "    dWs.append(dW)\n",
        "    dBs.append(dB)\n",
        "\n",
        "    for i in range(L-2,-1,-1):\n",
        "        dA_prev, dW, dB=self.backward_1(dA,self.Ws[i],self.As[i],self.Zs[i],middle_d_activation)\n",
        "        dWs.append(dW)\n",
        "        dBs.append(dB)\n",
        "        dA=dA_prev\n",
        "        \n",
        "    dWs.reverse()\n",
        "    dBs.reverse()\n",
        "\n",
        "\n",
        "    return dWs,dBs\n",
        "\n",
        "  def predict(self,X):\n",
        "    A = self.forward(X)\n",
        "    return np.argmax(A,axis=-1)\n",
        "\n",
        "  def evaluate(self,X,Y):\n",
        "    predictions = self.predict(X)\n",
        "    acc = np.count_nonzero(predictions==Y)/len(Y)\n",
        "    return acc\n",
        "\n"
      ],
      "execution_count": 10,
      "outputs": []
    },
    {
      "cell_type": "code",
      "metadata": {
        "id": "zCo9LBRzYbJG"
      },
      "source": [
        "mlp = MLP([784,64,10])\n",
        "mlp.initialize_parameters()"
      ],
      "execution_count": 11,
      "outputs": []
    },
    {
      "cell_type": "code",
      "metadata": {
        "id": "1vvKKvDdaXc2"
      },
      "source": [
        "train_batches = get_minibatch(train_X,train_Y,64)\n",
        "test_batches = get_minibatch(test_X,test_Y,64)\n",
        "lr = 1e-1\n",
        "n_epochs = 20 # an epoch is a training over the entire training set once"
      ],
      "execution_count": 12,
      "outputs": []
    },
    {
      "cell_type": "code",
      "metadata": {
        "colab": {
          "base_uri": "https://localhost:8080/"
        },
        "id": "KDuqhFdeAOwd",
        "outputId": "cf104569-786a-46c6-d372-27280362b5f0"
      },
      "source": [
        "train_losses = []\n",
        "test_losses = []\n",
        "\n",
        "for epoch in range(n_epochs):\n",
        "  train_loss = 0\n",
        "  test_loss = 0\n",
        "\n",
        "  for b in train_batches:\n",
        "    X_b = b[0]\n",
        "    Y_b = b[1]\n",
        "    Y_hat_b = mlp.forward(X_b)\n",
        "    train_loss = train_loss + sparse_categorical_cross_entropy(Y_b,Y_hat_b)\n",
        "\n",
        "    Ws = mlp.Ws\n",
        "    Bs = mlp.Bs\n",
        "\n",
        "    dWs,dBs = mlp.backward(Y_b)\n",
        "    Ws, Bs = sgd(Ws,Bs,dWs,dBs,lr)\n",
        "    mlp.update_parameters(Ws,Bs)\n",
        "\n",
        "  for b in test_batches:\n",
        "    X_b = b[0]\n",
        "    Y_b = b[1]\n",
        "    Y_hat_b = mlp.forward(X_b)\n",
        "    test_loss = test_loss + sparse_categorical_cross_entropy(Y_b,Y_hat_b)\n",
        "  \n",
        "\n",
        "  \n",
        "  train_loss = train_loss/len(train_batches)\n",
        "  test_loss = test_loss/len(test_batches)\n",
        "\n",
        "  print(\"Train loss = {}, Test loss = {}\".format(train_loss,test_loss))\n",
        "  train_losses.append(train_loss)\n",
        "  test_losses.append(test_loss)"
      ],
      "execution_count": 13,
      "outputs": [
        {
          "output_type": "stream",
          "text": [
            "Train loss = 0.37738137166691127, Test loss = 0.257072093411729\n",
            "Train loss = 0.21183189234609417, Test loss = 0.19008063612590714\n",
            "Train loss = 0.16492766013109475, Test loss = 0.15611663704638215\n",
            "Train loss = 0.1372336907767246, Test loss = 0.1358706828031318\n",
            "Train loss = 0.11833755804696863, Test loss = 0.12280802125335678\n",
            "Train loss = 0.1040178080853279, Test loss = 0.1134062557144656\n",
            "Train loss = 0.09311438459606726, Test loss = 0.10698737139656916\n",
            "Train loss = 0.08432005576188756, Test loss = 0.10228812147709396\n",
            "Train loss = 0.07693327530842328, Test loss = 0.09913415326002815\n",
            "Train loss = 0.07076546981926116, Test loss = 0.09588736537795516\n",
            "Train loss = 0.06537546876360195, Test loss = 0.09434069506908381\n",
            "Train loss = 0.06059031282865052, Test loss = 0.09368424552866168\n",
            "Train loss = 0.056349820408844876, Test loss = 0.09182173925452908\n",
            "Train loss = 0.05255340361139233, Test loss = 0.09091627209283293\n",
            "Train loss = 0.04905004191196106, Test loss = 0.09030988887296876\n",
            "Train loss = 0.045908429012566254, Test loss = 0.08982833920822593\n",
            "Train loss = 0.04303027639812558, Test loss = 0.08993672646564356\n",
            "Train loss = 0.04034232671808964, Test loss = 0.08955175711872336\n",
            "Train loss = 0.03784290131847186, Test loss = 0.08981029659390279\n",
            "Train loss = 0.03554645816669307, Test loss = 0.08964603072246839\n"
          ],
          "name": "stdout"
        }
      ]
    },
    {
      "cell_type": "code",
      "metadata": {
        "colab": {
          "base_uri": "https://localhost:8080/",
          "height": 283
        },
        "id": "szbeGXj6OKI9",
        "outputId": "b9eec114-189c-493d-c316-915d3746257e"
      },
      "source": [
        "plt.plot(train_losses)\n",
        "plt.plot(test_losses)"
      ],
      "execution_count": 14,
      "outputs": [
        {
          "output_type": "execute_result",
          "data": {
            "text/plain": [
              "[<matplotlib.lines.Line2D at 0x7f742c7bac50>]"
            ]
          },
          "metadata": {
            "tags": []
          },
          "execution_count": 14
        },
        {
          "output_type": "display_data",
          "data": {
            "image/png": "[encoded data removed]",
            "text/plain": [
              "<Figure size 432x288 with 1 Axes>"
            ]
          },
          "metadata": {
            "tags": [],
            "needs_background": "light"
          }
        }
      ]
    },
    {
      "cell_type": "code",
      "metadata": {
        "colab": {
          "base_uri": "https://localhost:8080/"
        },
        "id": "fEXc1MyEZlIR",
        "outputId": "e2194d4a-7a2a-4c62-f23d-d5033a3c758e"
      },
      "source": [
        " mlp.evaluate(test_X,test_Y)"
      ],
      "execution_count": 15,
      "outputs": [
        {
          "output_type": "execute_result",
          "data": {
            "text/plain": [
              "0.9741"
            ]
          },
          "metadata": {
            "tags": []
          },
          "execution_count": 15
        }
      ]
    },
    {
      "cell_type": "code",
      "metadata": {
        "id": "wznEiRsfcJl0"
      },
      "source": [
        "start_idx = 1000\n",
        "examples = test_X[start_idx:start_idx+5]\n",
        "predictions = mlp.predict(examples)"
      ],
      "execution_count": 19,
      "outputs": []
    },
    {
      "cell_type": "code",
      "metadata": {
        "colab": {
          "base_uri": "https://localhost:8080/"
        },
        "id": "NGsaNbwdctGF",
        "outputId": "45d61136-9a38-4601-8665-31d6c2389a19"
      },
      "source": [
        "print(predictions)"
      ],
      "execution_count": 20,
      "outputs": [
        {
          "output_type": "stream",
          "text": [
            "[9 0 2 5 1]\n"
          ],
          "name": "stdout"
        }
      ]
    },
    {
      "cell_type": "code",
      "metadata": {
        "colab": {
          "base_uri": "https://localhost:8080/",
          "height": 194
        },
        "id": "xda_qSF_cucx",
        "outputId": "d47d8292-d199-4dd8-85cb-270bd9627f94"
      },
      "source": [
        "fig, axs = plt.subplots(1, 5,figsize=(15,15))\n",
        "for idx,a in enumerate(axs):\n",
        "  a.imshow(test_X[start_idx+idx,:,:])\n",
        "  "
      ],
      "execution_count": 21,
      "outputs": [
        {
          "output_type": "display_data",
          "data": {
            "image/png": "[encoded data removed]",
            "text/plain": [
              "<Figure size 1080x1080 with 5 Axes>"
            ]
          },
          "metadata": {
            "tags": [],
            "needs_background": "light"
          }
        }
      ]
    }
  ]
}