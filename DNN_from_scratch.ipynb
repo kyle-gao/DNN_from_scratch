{
  "nbformat": 4,
  "nbformat_minor": 0,
  "metadata": {
    "kernelspec": {
      "display_name": "Python 3",
      "language": "python",
      "name": "python3"
    },
    "language_info": {
      "codemirror_mode": {
        "name": "ipython",
        "version": 3
      },
      "file_extension": ".py",
      "mimetype": "text/x-python",
      "name": "python",
      "nbconvert_exporter": "python",
      "pygments_lexer": "ipython3",
      "version": "3.7.4"
    },
    "colab": {
      "name": "DNN_from_scratch.ipynb",
      "provenance": [],
      "collapsed_sections": [],
      "include_colab_link": true
    }
  },
  "cells": [
    {
      "cell_type": "markdown",
      "metadata": {
        "id": "view-in-github",
        "colab_type": "text"
      },
      "source": [
        "<a href=\"https://colab.research.google.com/github/kyle-gao/DNN_from_scratch/blob/master/DNN_from_scratch.ipynb\" target=\"_parent\"><img src=\"https://colab.research.google.com/assets/colab-badge.svg\" alt=\"Open In Colab\"/></a>"
      ]
    },
    {
      "cell_type": "markdown",
      "metadata": {
        "id": "7TkhCMZeh20J",
        "colab_type": "text"
      },
      "source": [
        "Copyright 2020 Yi Lin(Kyle) Gao\n",
        "\n",
        "Licensed under the Apache License, Version 2.0 (the \"License\"); you may not use this file except in compliance with the License. You may obtain a copy of the License at http://www.apache.org/licenses/LICENSE-2.0 .\n"
      ]
    },
    {
      "cell_type": "code",
      "metadata": {
        "id": "lC3U6JKZvI2I",
        "colab_type": "code",
        "colab": {
          "base_uri": "https://localhost:8080/",
          "height": 52
        },
        "outputId": "1c48a8c2-cc3c-4fd8-db07-ac4653c6377f"
      },
      "source": [
        "!pip install mnist"
      ],
      "execution_count": null,
      "outputs": [
        {
          "output_type": "stream",
          "text": [
            "Requirement already satisfied: mnist in /usr/local/lib/python3.6/dist-packages (0.2.2)\n",
            "Requirement already satisfied: numpy in /usr/local/lib/python3.6/dist-packages (from mnist) (1.18.5)\n"
          ],
          "name": "stdout"
        }
      ]
    },
    {
      "cell_type": "code",
      "metadata": {
        "id": "O-I0lcgJn53u",
        "colab_type": "code",
        "colab": {}
      },
      "source": [
        "import numpy as np\n",
        "import matplotlib.pyplot as plt\n",
        "import mnist\n",
        "import copy"
      ],
      "execution_count": null,
      "outputs": []
    },
    {
      "cell_type": "code",
      "metadata": {
        "id": "3Z49ylH9rJHi",
        "colab_type": "code",
        "colab": {}
      },
      "source": [
        "train_X = mnist.train_images()/255.0\n",
        "train_Y = mnist.train_labels()\n",
        "\n",
        "test_X = mnist.test_images()/255.0\n",
        "test_Y = mnist.test_labels()"
      ],
      "execution_count": null,
      "outputs": []
    },
    {
      "cell_type": "code",
      "metadata": {
        "id": "Uvjwvq87n53y",
        "colab_type": "code",
        "colab": {
          "base_uri": "https://localhost:8080/",
          "height": 300
        },
        "outputId": "0df4410c-277f-4938-b8a4-b3807b6813d1"
      },
      "source": [
        "id = 6\n",
        "train_X=np.reshape(train_X,(-1,28*28))\n",
        "test_X=np.reshape(test_X,(-1,28*28))\n",
        "firstX=train_X[id,:]\n",
        "firstX=np.reshape(firstX,(28,28))\n",
        "plt.imshow(firstX)\n",
        "print(np.shape(train_X))\n",
        "print(train_Y[id])"
      ],
      "execution_count": null,
      "outputs": [
        {
          "output_type": "stream",
          "text": [
            "(60000, 784)\n",
            "1\n"
          ],
          "name": "stdout"
        },
        {
          "output_type": "display_data",
          "data": {
            "image/png": "[encoded data removed]",
            "text/plain": [
              "<Figure size 432x288 with 1 Axes>"
            ]
          },
          "metadata": {
            "tags": [],
            "needs_background": "light"
          }
        }
      ]
    },
    {
      "cell_type": "markdown",
      "metadata": {
        "id": "wq8Tm2OQn537",
        "colab_type": "text"
      },
      "source": [
        "Sigmoid and derivative"
      ]
    },
    {
      "cell_type": "code",
      "metadata": {
        "id": "iJzLrNwtn538",
        "colab_type": "code",
        "colab": {}
      },
      "source": [
        "def sigmoid(Z):\n",
        "    #sigmoid function\n",
        "    return  1/(1+np.exp(-Z))\n",
        "\n",
        "def dsigmoid(Z):\n",
        "    #sigmoid derivative\n",
        "    return sigmoid(Z)*(1-sigmoid(Z))\n"
      ],
      "execution_count": null,
      "outputs": []
    },
    {
      "cell_type": "markdown",
      "metadata": {
        "id": "NSttRzPGn54B",
        "colab_type": "text"
      },
      "source": [
        "RelU and derivative"
      ]
    },
    {
      "cell_type": "code",
      "metadata": {
        "id": "0okNNuibn54C",
        "colab_type": "code",
        "colab": {}
      },
      "source": [
        "def relu(Z):\n",
        "    #returns the element-wise relu of Z, fast implementation\n",
        "    #Z -- an array of floats\n",
        "    return Z * (Z > 0)\n",
        "\n",
        "def drelu(Z):\n",
        "    #relu derivative\n",
        "    return 1. * (Z > 0)"
      ],
      "execution_count": null,
      "outputs": []
    },
    {
      "cell_type": "markdown",
      "metadata": {
        "id": "Yv9jLHuVn54F",
        "colab_type": "text"
      },
      "source": [
        "Softmax and derivative"
      ]
    },
    {
      "cell_type": "code",
      "metadata": {
        "id": "USlVRFLAn54G",
        "colab_type": "code",
        "colab": {}
      },
      "source": [
        "def softmax(Z,eps=1e-10):\n",
        "    \"\"\"Numerically stable softmax\n",
        "    Given (m,n) input, returns softmax over the last dimension\"\"\"\n",
        "    shiftZ = Z - np.max(Z,axis=-1,keepdims=True)\n",
        "    expZ=np.exp(shiftZ)\n",
        "    total=np.sum(expZ,axis=-1,keepdims=True)+eps\n",
        "    return expZ/total\n",
        "\n",
        "\n",
        "def dsoftmax(Z):\n",
        "    \"\"\"Given a (m,n) matrix, returns a (m,n,n) jacobian matrix\"\"\"\n",
        "    m,n=np.shape(Z)\n",
        "    softZ=(softmax(Z))\n",
        "    prodtensor=np.einsum(\"ij,ik->ijk\",softZ,softZ)\n",
        "    diagtensor=np.einsum('ij,jk->ijk', softZ, np.eye(n, n))\n",
        "    return diagtensor-prodtensor"
      ],
      "execution_count": null,
      "outputs": []
    },
    {
      "cell_type": "markdown",
      "metadata": {
        "id": "biGHmwhVsY9l",
        "colab_type": "text"
      },
      "source": [
        "Derivative Testing"
      ]
    },
    {
      "cell_type": "code",
      "metadata": {
        "id": "CoBFmtg8n534",
        "colab_type": "code",
        "colab": {
          "base_uri": "https://localhost:8080/",
          "height": 35
        },
        "outputId": "84b30182-9a0b-43f6-ff7a-7dade0738668"
      },
      "source": [
        "def test_derivative(func,z,eps=1e-8):\n",
        "    \"\"\"2 sided derivative for single valued function or 'hadamard product type' function\"\"\"\n",
        "    return (func(z+eps)-func(z-eps))/(2*eps)\n",
        "\n",
        "def test_jac(func,Z,eps=1e-8):\n",
        "    \"\"\"Returns the jacobian (m,n,n) of a matrix function f:(m,n)->(m,n) \n",
        "        (jacobian over the second input axis 'n', 'm' is ignore)\"\"\"\n",
        "    m,n=np.shape(Z)\n",
        "    jacobian=np.zeros((m,n,n))\n",
        "    for idx, ij in np.ndenumerate(Z):\n",
        "        epsM=np.zeros((m,n))\n",
        "        epsM[idx]=eps\n",
        "        jacobian[idx[0],idx[1],:]=((func(Z+epsM)-func(Z-epsM))/(2*eps))[idx[0],:]\n",
        "    return jacobian\n",
        "\n",
        "\n",
        "\"\"\"#Test sigmoid\n",
        "z=np.random.rand(5,3)\n",
        "print(test_derivative(sigmoid,z)-dsigmoid(z))\"\"\"\n",
        "\n",
        "\"\"\"#Test relu\n",
        "z=np.random.rand(5,3)\n",
        "\n",
        "print(test_derivative(sigmoid,z)-dsigmoid(z))\"\"\"\n",
        "\n",
        "\"\"\"\n",
        "#Test softmax\n",
        "Z= np.random.rand(5,3)\n",
        "print(np.isclose(test_jac(softmax,Z)-dsoftmax(Z),0,1e-8))\"\"\"\n"
      ],
      "execution_count": null,
      "outputs": [
        {
          "output_type": "execute_result",
          "data": {
            "application/vnd.google.colaboratory.intrinsic+json": {
              "type": "string"
            },
            "text/plain": [
              "'\\n#Test softmax\\nZ= np.random.rand(5,3)\\nprint(np.isclose(test_jac(softmax,Z)-dsoftmax(Z),0,1e-8))'"
            ]
          },
          "metadata": {
            "tags": []
          },
          "execution_count": 83
        }
      ]
    },
    {
      "cell_type": "markdown",
      "metadata": {
        "id": "GOL1HVqHn54K",
        "colab_type": "text"
      },
      "source": [
        "One hot encodding and loss function"
      ]
    },
    {
      "cell_type": "code",
      "metadata": {
        "id": "DSGfKX9In54K",
        "colab_type": "code",
        "colab": {
          "base_uri": "https://localhost:8080/",
          "height": 35
        },
        "outputId": "a4b6491d-eed8-480b-f80b-4e60fd0cf07e"
      },
      "source": [
        "def one_hot(Y,n_class):\n",
        "    #Y -- (m,) array of classes from (0 to n_class)\n",
        "    #n_class -- an integer representing the number of classes\n",
        "    \"\"\"Returns the one_hot representation (m,n_class)\"\"\"\n",
        "    m=np.shape(Y)[0]\n",
        "    \n",
        "    O_h=np.zeros((m,n_class))\n",
        "    O_h[range(m),Y]=1\n",
        "    \n",
        "    return O_h\n",
        "\n",
        "\"\"\"\n",
        "#Test\n",
        "ytest=train_Y[0:5]\n",
        "print(one_hot(ytest,10))\n",
        "print(train_Y[0:5])\"\"\""
      ],
      "execution_count": null,
      "outputs": [
        {
          "output_type": "execute_result",
          "data": {
            "application/vnd.google.colaboratory.intrinsic+json": {
              "type": "string"
            },
            "text/plain": [
              "'\\n#Test\\nytest=train_Y[0:5]\\nprint(one_hot(ytest,10))\\nprint(train_Y[0:5])'"
            ]
          },
          "metadata": {
            "tags": []
          },
          "execution_count": 84
        }
      ]
    },
    {
      "cell_type": "code",
      "metadata": {
        "id": "uWgKb_RIsqpf",
        "colab_type": "code",
        "colab": {}
      },
      "source": [
        "train_Y_oh=one_hot(train_Y,10)\n",
        "test_Y_oh=one_hot(test_Y,10)"
      ],
      "execution_count": null,
      "outputs": []
    },
    {
      "cell_type": "markdown",
      "metadata": {
        "id": "JPnfSfkPn54O",
        "colab_type": "text"
      },
      "source": [
        "Loss function"
      ]
    },
    {
      "cell_type": "code",
      "metadata": {
        "id": "raq6gy6yn54O",
        "colab_type": "code",
        "colab": {}
      },
      "source": [
        "def categorical_crossentropy(Y,Yhat,eps=1e-8):\n",
        "    #Y -- (m,dim_y) array of labels m=examples \n",
        "    #Yhat -- (m,dim_y) array of logits\n",
        "    \"\"\"Computes the categorical cross-entropy for one hot encoded labels\"\"\"\n",
        "    m,dimy=np.shape(Y)\n",
        "    Yhat=np.clip(Yhat,eps,1-eps) #for numerical stability if this is used, the output of the last layer must be normalized \n",
        "\n",
        "    #J=-(Y*np.log(Yhat)+(1-Y)*np.log(1-Yhat))\n",
        "    J=-np.sum(Y*np.log(Yhat),axis=-1)\n",
        "    #J=np.sum((Y-Yhat)*(Y-Yhat),axis=0)\n",
        "    \n",
        "    return np.sum(J,axis=0)/(m)"
      ],
      "execution_count": null,
      "outputs": []
    },
    {
      "cell_type": "markdown",
      "metadata": {
        "id": "U4VzGIKsn54R",
        "colab_type": "text"
      },
      "source": [
        "Preprocessing"
      ]
    },
    {
      "cell_type": "code",
      "metadata": {
        "id": "aTL-cFiUn54R",
        "colab_type": "code",
        "colab": {}
      },
      "source": [
        "def get_rand_minibatch(X, Y, minibatch_size = 64):\n",
        "    #inputs\n",
        "    #X -- ( m,dim_x) array of labelled data \n",
        "    #Y -- (m,dim_y) array of labels\n",
        "    #minibatch_size -- int, minibatch size\n",
        "    #outputs\n",
        "    #minibatches -- list of (X,Y), a list of tuple (miniX,miniY) of randomly shuffled minibatches\n",
        "    \n",
        "    m=X.shape[0]\n",
        "    minibatches=[]\n",
        "    \n",
        "    rand_perm=np.random.permutation(m)\n",
        "    shuffled_X=X[rand_perm,:]\n",
        "    shuffled_Y=Y[rand_perm]\n",
        "    num_batches=int(np.floor(m/minibatch_size))\n",
        "    \n",
        "    for b in range(num_batches):\n",
        "        mini_X=shuffled_X[b*minibatch_size:(b+1)*minibatch_size,:]\n",
        "        mini_Y=shuffled_Y[b*minibatch_size:(b+1)*minibatch_size]\n",
        "        minibatches.append((mini_X,mini_Y))\n",
        "    if m%minibatch_size !=0: #left over minibatch\n",
        "        mini_X=shuffled_X[num_batches*minibatch_size:,:]\n",
        "        mini_Y=shuffled_Y[num_batches*minibatch_size:]\n",
        "        minibatches.append((mini_X,mini_Y))\n",
        "    \n",
        "    return minibatches"
      ],
      "execution_count": null,
      "outputs": []
    },
    {
      "cell_type": "code",
      "metadata": {
        "id": "d9G0-9LJn54X",
        "colab_type": "code",
        "colab": {}
      },
      "source": [
        "def initialize_parameters(layers):\n",
        "    #input\n",
        "    #layers -- list of int:layer sizes, note: layer[0] is input layer, layer[L] is output layer\n",
        "    \n",
        "    #output\n",
        "    #Ws,Bs -- lists of np arrays, the randomly initialized weights and zero initialized biases\n",
        "    \n",
        "    L=len(layers)\n",
        "    Ws=[]\n",
        "    Bs=[]\n",
        "    \n",
        "    for l in range(1,L):\n",
        "        wl=np.random.randn(layers[l-1],layers[l])\n",
        "        bl=np.zeros((layers[l],1))\n",
        "        Ws.append(wl)\n",
        "        Bs.append(bl)\n",
        "    return Ws,Bs"
      ],
      "execution_count": null,
      "outputs": []
    },
    {
      "cell_type": "code",
      "metadata": {
        "id": "WJVYN9-MsyfQ",
        "colab_type": "code",
        "colab": {}
      },
      "source": [
        "#Test\n",
        "layers=[784,12,11,10]\n",
        "Ws,bs=initialize_parameters(layers)"
      ],
      "execution_count": null,
      "outputs": []
    },
    {
      "cell_type": "code",
      "metadata": {
        "id": "27yYbWgPn54Z",
        "colab_type": "code",
        "colab": {}
      },
      "source": [
        "def forward(A_prev,W,b,activation='relu'):\n",
        "    #A_prev -- (m,dim_a_prev) \n",
        "    #W -- (dim_a,dim_a_prev)\n",
        "    #b -- (dim_a,1)\n",
        "    #activation -- a function (relu,sigmoid,softmax)\n",
        "    Z=np.dot(A_prev,W)+b.T\n",
        "    if activation=='relu':\n",
        "        A_next=relu(Z)\n",
        "    elif activation=='sigmoid':\n",
        "        A_next=sigmoid(Z)\n",
        "    elif activation=='linear':\n",
        "        A_next=Z\n",
        "    elif activation=='softmax':\n",
        "        A_next=softmax(Z)\n",
        "    else:\n",
        "        A_next=None\n",
        "        print('Activation not recognized')\n",
        "    \n",
        "    return A_next,Z"
      ],
      "execution_count": null,
      "outputs": []
    },
    {
      "cell_type": "code",
      "metadata": {
        "id": "8jUgccM4qB0x",
        "colab_type": "code",
        "colab": {
          "base_uri": "https://localhost:8080/",
          "height": 35
        },
        "outputId": "20ebcea3-c48a-4c88-e1f6-e6293f975682"
      },
      "source": [
        "#Test\n",
        "A=np.random.rand(500,10)\n",
        "W=np.random.randn(10,5)\n",
        "b=np.random.randn(5,1)\n",
        "Anext,__=forward(A,W,b)\n",
        "print(np.shape(Anext))"
      ],
      "execution_count": null,
      "outputs": [
        {
          "output_type": "stream",
          "text": [
            "(500, 5)\n"
          ],
          "name": "stdout"
        }
      ]
    },
    {
      "cell_type": "code",
      "metadata": {
        "id": "Ohi4HSxtn54b",
        "colab_type": "code",
        "colab": {}
      },
      "source": [
        "def backward(dA,W,A_prev,Z,activation=\"relu\"):\n",
        "    #dA -- (m,dim_a) np.array\n",
        "    #W -- dim (dim_a,dim_a_prev) np.array\n",
        "    #A_prev -- (m,dim_a_prev) np.array\n",
        "    #Z -- (m,dim_a) np.array\n",
        "    m=A_prev.shape[0]\n",
        "    \n",
        "    if activation=='relu':\n",
        "        dZ=dA*drelu(Z)\n",
        "    elif activation=='sigmoid':\n",
        "        dZ=dA*dsigmoid(Z)\n",
        "    elif activation=='linear':\n",
        "        dZ=dA\n",
        "    elif activation=='softmax': #Can absorb the derivative of the softmax into the derivative of the loss function\n",
        "        dZ=np.einsum(\"ijk,ij->ik\",dsoftmax(Z),dA)\n",
        "    else:\n",
        "        A_next=None\n",
        "        print('back Activation not recognized')\n",
        "        \n",
        "    dA_prev=np.dot(dZ,W.T)\n",
        "    dW=np.dot(A_prev.T,dZ)/m\n",
        "    dB=np.mean(dZ,axis=0)\n",
        "    dB=np.reshape(dB,(len(dB),1))\n",
        "    return dA_prev, dW, dB"
      ],
      "execution_count": null,
      "outputs": []
    },
    {
      "cell_type": "code",
      "metadata": {
        "id": "NbyPjYdUqAny",
        "colab_type": "code",
        "colab": {
          "base_uri": "https://localhost:8080/",
          "height": 104
        },
        "outputId": "89e9d992-987a-4695-f351-2ab827edd1dc"
      },
      "source": [
        "#Test\n",
        "dA=np.ones((10,6))\n",
        "W=np.ones((5,6))\n",
        "A_prev=np.ones((10,5))\n",
        "Z=np.ones((10,6))\n",
        "da_prev,dW,dB=backward(dA,W,A_prev,Z,activation=\"relu\")\n",
        "print(dW)"
      ],
      "execution_count": null,
      "outputs": [
        {
          "output_type": "stream",
          "text": [
            "[[1. 1. 1. 1. 1. 1.]\n",
            " [1. 1. 1. 1. 1. 1.]\n",
            " [1. 1. 1. 1. 1. 1.]\n",
            " [1. 1. 1. 1. 1. 1.]\n",
            " [1. 1. 1. 1. 1. 1.]]\n"
          ],
          "name": "stdout"
        }
      ]
    },
    {
      "cell_type": "code",
      "metadata": {
        "id": "p0Tj119Dn54g",
        "colab_type": "code",
        "colab": {}
      },
      "source": [
        "def forward_prop(Ws,Bs,X,middle_activations='relu',last_activation='softmax'):\n",
        "    \n",
        "    #inputs:\n",
        "    #Ws -- list of weights\n",
        "    #Bs -- list of biases\n",
        "    #X -- input layer\n",
        "    \n",
        "    #output\n",
        "    #As -- list of (n_a,m) arrays of activations\n",
        "    \n",
        "    As=[]\n",
        "    Zs=[None]\n",
        "    As.append(X)\n",
        "    L=len(Ws)\n",
        "    \n",
        "    \n",
        "    for i in range(L-1):\n",
        "        Anext,Znext=forward(As[-1],Ws[i],Bs[i],middle_activations)\n",
        "        As.append(Anext)\n",
        "        Zs.append(Znext)\n",
        "    Anext,Znext=forward(As[-1],Ws[L-1],Bs[L-1],last_activation)\n",
        "    As.append(Anext)\n",
        "    Zs.append(Znext)\n",
        "   # Anext,Znext=forward(As[-1],Ws[L-1],Bs[L-1],'softmax')\n",
        "   # As.append(Anext)\n",
        "   # Zs.append(Znext)\n",
        "    \n",
        "    return As,Zs"
      ],
      "execution_count": null,
      "outputs": []
    },
    {
      "cell_type": "code",
      "metadata": {
        "id": "5sk-rvc0n54k",
        "colab_type": "code",
        "colab": {
          "base_uri": "https://localhost:8080/",
          "height": 35
        },
        "outputId": "c9432d9f-d18c-4f7b-bdbe-1cfd6469d353"
      },
      "source": [
        "#Test\n",
        "X_test=train_X[0:20,:]\n",
        "Y_test=train_Y_oh[0:20]\n",
        "As,Zs=forward_prop(Ws,bs,X_test)\n",
        "np.shape(As[-1])"
      ],
      "execution_count": null,
      "outputs": [
        {
          "output_type": "execute_result",
          "data": {
            "text/plain": [
              "(20, 10)"
            ]
          },
          "metadata": {
            "tags": []
          },
          "execution_count": 95
        }
      ]
    },
    {
      "cell_type": "code",
      "metadata": {
        "id": "viXCaLC2n54n",
        "colab_type": "code",
        "colab": {}
      },
      "source": [
        "def back_prop(Ws,As,Y,Zs,middle_activations='relu',last_activation='softmax'):\n",
        "    dAs=[]\n",
        "    dWs=[]\n",
        "    dBs=[]\n",
        "   \n",
        "    L=len(Ws)\n",
        "    \n",
        "    #The softmax derivative dL/dWij=dL/dai dai/dWij = (Y-A)*dZ which has the same form as the sigmoid derivative\n",
        "    dA=As[-1]-Y \n",
        "    if last_activation=='softmax':\n",
        "        last_activation='linear'\n",
        "    dA, dW, dB=backward(dA,Ws[L-1],As[L-1],Zs[L],last_activation)\n",
        "    #The linear backward layer takes into account both softmax and sigmoid final layers. \n",
        "    \n",
        "    dWs.append(dW)\n",
        "    dBs.append(dB)    \n",
        "    for i in range(L-2,-1,-1):\n",
        "        dA_prev, dW, dB=backward(dA,Ws[i],As[i],Zs[i+1],middle_activations)\n",
        "        dWs.append(dW)\n",
        "        dBs.append(dB)\n",
        "        dA=dA_prev\n",
        "    dWs.reverse()\n",
        "    dBs.reverse()\n",
        "    return dWs,dBs"
      ],
      "execution_count": null,
      "outputs": []
    },
    {
      "cell_type": "code",
      "metadata": {
        "id": "Aw0PNet_n54q",
        "colab_type": "code",
        "colab": {
          "base_uri": "https://localhost:8080/",
          "height": 121
        },
        "outputId": "84fcb078-5475-4b20-a612-67d339abafd0"
      },
      "source": [
        "#Test\n",
        "dWs,dBs=back_prop(Ws,As,train_Y_oh[0:20],Zs)\n",
        "for dw in dWs:\n",
        "    print(np.shape(dw))\n",
        "for w in Ws:\n",
        "    print(np.shape(w))"
      ],
      "execution_count": null,
      "outputs": [
        {
          "output_type": "stream",
          "text": [
            "(784, 12)\n",
            "(12, 11)\n",
            "(11, 10)\n",
            "(784, 12)\n",
            "(12, 11)\n",
            "(11, 10)\n"
          ],
          "name": "stdout"
        }
      ]
    },
    {
      "cell_type": "code",
      "metadata": {
        "id": "bn5_tu2ln54u",
        "colab_type": "code",
        "colab": {}
      },
      "source": [
        "def optmize(Ws,Bs,dWs,dBs,vdw=0,vdb=0,sdw=0,sdb=0,optimizer='adam',learn_rate=0.01,beta1=0.9,beta2=0.999,eps=10**-6,t=1):\n",
        "    #W -- list of Weights\n",
        "    #B -- list of Biases\n",
        "    #dW -- list of d/dW\n",
        "    #dB -- list of d/dB\n",
        "    \n",
        "\n",
        "    L=len(Ws)\n",
        "    \n",
        "    if optimizer=='adam' or optimizer=='momentum':\n",
        "        vdw=[beta1*vdw[i]+(1-beta1)*dWs[i] for i in range (L)]\n",
        "        vdb=[beta1*vdb[i]+(1-beta1)*dBs[i] for i in range (L)]\n",
        "        #bias correction\n",
        "        vdw=[vdwi/(1-np.power(beta1,t)) for vdwi in vdw] \n",
        "        vdb=[vdbi/(1-np.power(beta1,t)) for vdbi in vdb]\n",
        "    if optimizer=='adam' or optimizer=='rmsprop':\n",
        "        sdw=[beta2*sdw[i]+(1-beta2)*dWs[i]**2 for i in range(L)]\n",
        "        sdb=[beta2*sdb[i]+(1-beta2)*dBs[i]**2 for i in range(L)]\n",
        "        #bias correction\n",
        "        sdw=[sdwi/(1-np.power(beta2,t))+eps for sdwi in sdw]\n",
        "        sdb=[sdbi/(1-np.power(beta2,t))+eps for sdbi in sdb]\n",
        "    if optimizer=='adam':\n",
        "        Ws=[Ws[i]-learn_rate*vdw[i]/np.sqrt(sdw[i]) for i in range(L)]\n",
        "        Bs=[Bs[i]-learn_rate*vdb[i]/np.sqrt(sdb[i]) for i in range(L)]\n",
        "    if optimizer=='rmsprop':\n",
        "        Ws=[Ws[i]-learn_rate*dWs[i]/np.sqrt(sdw[i]) for i in range(L)]\n",
        "        Bs=[Bs[i]-learn_rate*dBs[i]/np.sqrt(sdb[i]) for i in range(L)]\n",
        "    if optimizer=='momentum':\n",
        "        Bs=[Bs[i]-learn_rate*vdb[i] for i in range(L)]\n",
        "        Ws=[Ws[i]-learn_rate*vdw[i] for i in range(L)]\n",
        "    if optimizer=='sgd':\n",
        "        Bs=[Bs[i]-learn_rate*dBs[i] for i in range(L)]\n",
        "        Ws=[Ws[i]-learn_rate*dWs[i] for i in range(L)]\n",
        "    \n",
        "    \n",
        "    return Ws,Bs"
      ],
      "execution_count": null,
      "outputs": []
    },
    {
      "cell_type": "code",
      "metadata": {
        "id": "uQgVSwman54y",
        "colab_type": "code",
        "colab": {
          "base_uri": "https://localhost:8080/",
          "height": 330
        },
        "outputId": "dee74b1e-fc27-435e-b686-4b44061abeaf"
      },
      "source": [
        "def model(X, Y, layers, optimizer, epochs = 10, lr = 0.001, mini_batch_size = 128,\n",
        "          beta1 = 0.9, beta2 = 0.999,  epsilon = 1e-8, middle_activations='relu',last_activation='softmax'):\n",
        "    \"\"\"\n",
        "    3-layer neural network model which can be run in different optimizer modes.\n",
        "    \n",
        "    Arguments:\n",
        "    X -- input data (number of examples, input_size)\n",
        "    Y -- input label (number of examples)\n",
        "    layers -- python list, containing the size of each layer. [input_size,hidden_layer_1,...,hidden_layer_n, output_layer]\n",
        "    optimizer -- a string, one of ['adam','rmsprop','momentum','gd']\n",
        "    epochs -- the number of training epoches\n",
        "    lr -- learning rate, default of 1e-3\n",
        "    mini_batch_size -- the size of a mini batch defaults to 128\n",
        "    beta -- Momentum hyperparameter\n",
        "    beta1 -- Exponential decay hyperparameter for the past gradients estimates \n",
        "    beta2 -- Exponential decay hyperparameter for the past squared gradients estimates \n",
        "    epsilon -- hyperparameter preventing division by zero in Adam updates\n",
        "    middle_activations -- a string, one of ['relu','sigmoid','linear','softmax'], defaults to relu\n",
        "    last_activation -- a string, one of ['relu','sigmoid','linear','softmax'], defaults to softmax\n",
        "\n",
        "    Returns:\n",
        "    Ws,Bs -- Ws- A list of weights [...(ln,ln+1)...], Bs-a list of biases [...(ln+1,1)...] \n",
        "    \"\"\"\n",
        "\n",
        "    L = len(layers)             # number of layers in the neural networks\n",
        "    costs = []                       # to keep track of the cost\n",
        "    t = 1                            # initializing the counter required for Adam update\n",
        "    m = X.shape[0]                   # number of training examples\n",
        "    \n",
        "    # Initialize parameters\n",
        "    \n",
        "    Ws,Bs = initialize_parameters(layers)\n",
        "    vdw=[np.zeros(np.shape(i)) for i in Ws]\n",
        "    vdb=[np.zeros(np.shape(i)) for i in Bs]\n",
        "    sdw=[np.zeros(np.shape(i)) for i in Ws]\n",
        "    sdb=[np.zeros(np.shape(i)) for i in Bs]\n",
        "    minibatches=get_rand_minibatch(X,Y,mini_batch_size)\n",
        "    \n",
        "    \n",
        "    # Optimization loop\n",
        "    for i in range(epochs):\n",
        "        cost_total = 0\n",
        "        \n",
        "        for minibatch in minibatches:\n",
        "\n",
        "            # Select a minibatch\n",
        "            (mini_X, mini_Y) = minibatch\n",
        "\n",
        "            # Forward propagation\n",
        "            As,Zs = forward_prop(Ws,Bs,mini_X,middle_activations='relu',last_activation='softmax')\n",
        "            Yhat=As[-1]\n",
        "\n",
        "            # Compute cost and add to the cost total\n",
        "            cost_total += categorical_crossentropy(mini_Y,Yhat)\n",
        "\n",
        "            # Backward propagation\n",
        "            dWs,dBs = back_prop(Ws,As,mini_Y,Zs,middle_activations='relu',last_activation='linear')\n",
        "\n",
        "            # Optimization step\n",
        "            Ws,Bs=optmize(Ws,Bs,dWs,dBs,vdw,vdb,sdw,sdb,optimizer=optimizer,learn_rate=lr,beta1=beta1,beta2= beta2,eps=epsilon,t=t)\n",
        "            t+=1\n",
        "            \n",
        "        cost = cost_total / m\n",
        "        if i%2==0:\n",
        "            print(cost)\n",
        "        costs.append(cost)\n",
        "                \n",
        "    # plot the cost\n",
        "    plt.plot(costs)\n",
        "    plt.ylabel('cost')\n",
        "    plt.xlabel('epochs')\n",
        "    \n",
        "    plt.title(\"Lr = \" + str(lr))\n",
        "    plt.show()\n",
        "\n",
        "    return Ws,Bs"
      ],
      "execution_count": null,
      "outputs": [
        {
          "output_type": "stream",
          "text": [
            "0.06738459239814157\n",
            "0.017447472476796365\n"
          ],
          "name": "stdout"
        },
        {
          "output_type": "display_data",
          "data": {
            "image/png": "[encoded data removed]",
            "text/plain": [
              "<Figure size 432x288 with 1 Axes>"
            ]
          },
          "metadata": {
            "tags": [],
            "needs_background": "light"
          }
        }
      ]
    },
    {
      "cell_type": "code",
      "metadata": {
        "id": "1QJOdtUewAIy",
        "colab_type": "code",
        "colab": {}
      },
      "source": [
        "Ws,Bs=model(train_X, train_Y_oh, layers=[784,12,11,10], optimizer=\"adam\", epochs = 20, lr = 1e-3, mini_batch_size = 64,\n",
        "          beta1 = 0.9, beta2 = 0.999,  epsilon = 1e-8)"
      ],
      "execution_count": null,
      "outputs": []
    },
    {
      "cell_type": "code",
      "metadata": {
        "id": "ZtINGfTnn542",
        "colab_type": "code",
        "colab": {}
      },
      "source": [
        "def predict(X,Ws,Bs):\n",
        "    \"\"\"Returns a prediction given\n",
        "    X -- a single input\n",
        "    Ws -- a list of weight, [(input_size,layer1),...,(layer n-1,output_size)]\n",
        "    Bs -- a list of biases, [(input_size,1),...,(output_size,1)]\n",
        "    \"\"\"\n",
        "    As,Zs = forward_prop(Ws,Bs,X)\n",
        "    Yhat=As[-1]\n",
        "    prediction=np.argmax(Yhat,axis=-1)\n",
        "    return prediction"
      ],
      "execution_count": null,
      "outputs": []
    },
    {
      "cell_type": "code",
      "metadata": {
        "id": "F1w7DUbtn544",
        "colab_type": "code",
        "colab": {
          "base_uri": "https://localhost:8080/",
          "height": 300
        },
        "outputId": "1498f343-233f-4d15-e1d8-039aeb0aedef"
      },
      "source": [
        "idx=555\n",
        "print(predict(test_X[idx,:],Ws,Bs))\n",
        "plt.imshow(np.reshape(test_X[idx,:],(28,28)))"
      ],
      "execution_count": null,
      "outputs": [
        {
          "output_type": "stream",
          "text": [
            "[4]\n"
          ],
          "name": "stdout"
        },
        {
          "output_type": "execute_result",
          "data": {
            "text/plain": [
              "<matplotlib.image.AxesImage at 0x7fc1eb93ce80>"
            ]
          },
          "metadata": {
            "tags": []
          },
          "execution_count": 101
        },
        {
          "output_type": "display_data",
          "data": {
            "image/png": "[encoded data removed]",
            "text/plain": [
              "<Figure size 432x288 with 1 Axes>"
            ]
          },
          "metadata": {
            "tags": [],
            "needs_background": "light"
          }
        }
      ]
    },
    {
      "cell_type": "code",
      "metadata": {
        "scrolled": true,
        "id": "WC7uft-wn548",
        "colab_type": "code",
        "colab": {
          "base_uri": "https://localhost:8080/",
          "height": 35
        },
        "outputId": "c81de762-8754-4f90-a1e3-3f2f3dca8a0c"
      },
      "source": [
        "predicts=predict(train_X,Ws,Bs)\n",
        "acc=np.count_nonzero(predicts==train_Y)/len(train_Y)\n",
        "print(acc)"
      ],
      "execution_count": null,
      "outputs": [
        {
          "output_type": "stream",
          "text": [
            "0.7826833333333333\n"
          ],
          "name": "stdout"
        }
      ]
    },
    {
      "cell_type": "markdown",
      "metadata": {
        "id": "TxkCIz9mn54_",
        "colab_type": "text"
      },
      "source": [
        "#Checking the backpropagation gradient"
      ]
    },
    {
      "cell_type": "code",
      "metadata": {
        "id": "oFZqsgdzn54_",
        "colab_type": "code",
        "colab": {}
      },
      "source": [
        "X_test=train_X[0:2,:]\n",
        "Y_test=train_Y_oh[0:2]\n",
        "Ws,bs=initialize_parameters(layers)"
      ],
      "execution_count": null,
      "outputs": []
    },
    {
      "cell_type": "code",
      "metadata": {
        "id": "N8taz_Zln55B",
        "colab_type": "code",
        "colab": {
          "base_uri": "https://localhost:8080/",
          "height": 35
        },
        "outputId": "55cefc9b-c7f5-4377-e06c-49984ec8ef4e"
      },
      "source": [
        "\n",
        "As,Zs=forward_prop(Ws,bs,X_test,middle_activations='sigmoid',last_activation='softmax')\n",
        "dWs,dBs=back_prop(Ws,As,Y_test,Zs,middle_activations='sigmoid',last_activation='softmax')\n",
        "\n",
        "\n",
        "\n",
        "eps=1e-6\n",
        "layer=2\n",
        "idx=(2,5)\n",
        "\"\"\"Computing partial derivative\"\"\"\n",
        "Wplus=copy.deepcopy(Ws)\n",
        "Wminus=copy.deepcopy(Ws)\n",
        "Wplus[layer][idx]=Ws[layer][idx]+eps\n",
        "Wminus[layer][idx]=Ws[layer][idx]-eps\n",
        "AsPlus,_=forward_prop(Wplus,bs,X_test,middle_activations='sigmoid',last_activation='softmax')\n",
        "AsMinus,_=forward_prop(Wminus,bs,X_test,middle_activations='sigmoid',last_activation='softmax')\n",
        "Jplus=categorical_crossentropy(Y_test,AsPlus[-1])\n",
        "Jminus=categorical_crossentropy(Y_test,AsMinus[-1])\n",
        "dWtest=(Jplus-Jminus)/(2*eps)\n",
        "\n",
        "\n",
        "print(dWtest,dWs[layer][idx])"
      ],
      "execution_count": null,
      "outputs": [
        {
          "output_type": "stream",
          "text": [
            "-0.4552034247318204 -0.4552034243939695\n"
          ],
          "name": "stdout"
        }
      ]
    }
  ]
}